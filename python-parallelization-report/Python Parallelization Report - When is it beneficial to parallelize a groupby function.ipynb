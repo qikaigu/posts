{
 "cells": [
  {
   "cell_type": "markdown",
   "metadata": {},
   "source": [
    "Python Parallelization Report\n",
    "===\n",
    "\n",
    "## When is it beneficial to parallelize a groupby function?\n",
    "\n",
    "Author: Qikai Gu\n",
    "\n",
    "Date: Sep 6, 2018\n",
    "\n",
    "---\n",
    "\n",
    "The objective of this notebook is to study if it's possible to reduce the running time of a groupby function by using parallelization, and in what case it is beneficial to apply a multiprocessing on the groupby function.\n",
    "\n",
    "Because of the Global Interpreter Lock (GIL), multithreading doesn't give much performance gain, so it isn't included in this report. Here I focus on multiprocessing approaches."
   ]
  },
  {
   "cell_type": "code",
   "execution_count": 1,
   "metadata": {},
   "outputs": [],
   "source": [
    "import time\n",
    "from multiprocessing import Pool, Manager, Lock\n",
    "\n",
    "import matplotlib.pyplot as plt\n",
    "%matplotlib inline\n",
    "%load_ext line_profiler"
   ]
  },
  {
   "cell_type": "markdown",
   "metadata": {},
   "source": [
    "To do this, a custom dataset format will be defined firstly and I will apply a groupby function on several datasets of the same format in order to better understand the parallelization."
   ]
  },
  {
   "cell_type": "code",
   "execution_count": 2,
   "metadata": {},
   "outputs": [],
   "source": [
    "def create_dataset(size, n_groups):\n",
    "    \"\"\"\n",
    "    Create a dataset of key-value pairs of given size, \n",
    "    with values equally distributed in n_groups.\n",
    "    \n",
    "    For size=10, n_groups=2, the function returns \n",
    "    {0: 0, 1: 1, 2: 0, 3: 1, 4: 0, 5: 1, 6: 0, 7: 1, 8: 0, 9: 1}\n",
    "    \"\"\"\n",
    "    values = [x  \n",
    "              for _ in range(size // n_groups)\n",
    "              for x in list(range(n_groups))] + \\\n",
    "             list(range(n_groups))[:size % n_groups]\n",
    "    return {i: x for i, x in enumerate(values)}"
   ]
  },
  {
   "cell_type": "code",
   "execution_count": 3,
   "metadata": {},
   "outputs": [
    {
     "data": {
      "text/plain": [
       "{0: 0, 1: 1, 2: 0, 3: 1, 4: 0, 5: 1, 6: 0, 7: 1, 8: 0, 9: 1}"
      ]
     },
     "execution_count": 3,
     "metadata": {},
     "output_type": "execute_result"
    }
   ],
   "source": [
    "sample = create_dataset(10, 2)\n",
    "sample"
   ]
  },
  {
   "cell_type": "markdown",
   "metadata": {},
   "source": [
    "We are doing a group-keys-by-values action, more precisely, for each unique value, put their keys together.\n",
    "\n",
    "For this particular sample, the expected output of the groupby function is \n",
    "```\n",
    "{0: [0, 2, 4, 6, 8],\n",
    " 1: [1, 3, 5, 7, 9]}\n",
    "```"
   ]
  },
  {
   "cell_type": "code",
   "execution_count": null,
   "metadata": {},
   "outputs": [],
   "source": []
  },
  {
   "cell_type": "code",
   "execution_count": 4,
   "metadata": {},
   "outputs": [],
   "source": [
    "SIZE = 1000000\n",
    "N_UNIQUE_VALUES = 1000000\n",
    "\n",
    "dataset = create_dataset(SIZE, N_UNIQUE_VALUES)"
   ]
  },
  {
   "cell_type": "code",
   "execution_count": null,
   "metadata": {},
   "outputs": [],
   "source": []
  },
  {
   "cell_type": "code",
   "execution_count": 5,
   "metadata": {},
   "outputs": [],
   "source": [
    "def timeit(func, *args):\n",
    "    \"\"\"\n",
    "    A function to get the execution time of a given function.\n",
    "    \"\"\"\n",
    "    start_time = time.time()\n",
    "    result = func(*args)\n",
    "    end_time = time.time()\n",
    "    exec_time = end_time - start_time\n",
    "    print('Execution time: {} seconds.'.format(exec_time))\n",
    "    return result, exec_time"
   ]
  },
  {
   "cell_type": "code",
   "execution_count": null,
   "metadata": {},
   "outputs": [],
   "source": []
  },
  {
   "cell_type": "markdown",
   "metadata": {},
   "source": [
    "### Groupby with built-in dicts"
   ]
  },
  {
   "cell_type": "code",
   "execution_count": 6,
   "metadata": {},
   "outputs": [],
   "source": [
    "def groupby_with_dict(d_):\n",
    "    grouped = {}\n",
    "    for key, val in d_.items():\n",
    "        if val not in grouped:\n",
    "            grouped[val] = []\n",
    "        grouped[val].append(key)\n",
    "    return grouped\n",
    "\n",
    "\n",
    "def bench_dict_groupby():\n",
    "    size = 10000000\n",
    "    n_unique_values = [1, 10, 100, 1000, 10000, 100000, 1000000, 10000000]\n",
    "    times = []\n",
    "    \n",
    "    for n in n_unique_values:\n",
    "        print('For {} data points ({} unique values repeated {} times): '.format(\n",
    "              size, n, size // n))\n",
    "        d_ = create_dataset(size, n)\n",
    "        _, t = timeit(groupby_with_dict, d_)\n",
    "        times.append(t)\n",
    "        print()\n",
    "    \n",
    "    plt.plot(n_unique_values, times, 'x-b')\n",
    "    plt.xscale('log')\n",
    "    plt.xlabel('number of unique values')\n",
    "    plt.ylabel('seconds')\n",
    "    plt.title('Groupby Execution Time')\n",
    "    plt.show()"
   ]
  },
  {
   "cell_type": "code",
   "execution_count": 7,
   "metadata": {},
   "outputs": [
    {
     "name": "stdout",
     "output_type": "stream",
     "text": [
      "For 10000000 data points (1 unique values repeated 10000000 times): \n",
      "Execution time: 0.9850666522979736 seconds.\n",
      "\n",
      "For 10000000 data points (10 unique values repeated 1000000 times): \n",
      "Execution time: 1.047842264175415 seconds.\n",
      "\n",
      "For 10000000 data points (100 unique values repeated 100000 times): \n",
      "Execution time: 1.089705467224121 seconds.\n",
      "\n",
      "For 10000000 data points (1000 unique values repeated 10000 times): \n",
      "Execution time: 1.7152485847473145 seconds.\n",
      "\n",
      "For 10000000 data points (10000 unique values repeated 1000 times): \n",
      "Execution time: 1.822258710861206 seconds.\n",
      "\n",
      "For 10000000 data points (100000 unique values repeated 100 times): \n",
      "Execution time: 1.6639516353607178 seconds.\n",
      "\n",
      "For 10000000 data points (1000000 unique values repeated 10 times): \n",
      "Execution time: 3.015690803527832 seconds.\n",
      "\n",
      "For 10000000 data points (10000000 unique values repeated 1 times): \n",
      "Execution time: 5.911139965057373 seconds.\n",
      "\n"
     ]
    },
    {
     "data": {
      "image/png": "[encoded data removed]",
      "text/plain": [
       "<Figure size 432x288 with 1 Axes>"
      ]
     },
     "metadata": {},
     "output_type": "display_data"
    }
   ],
   "source": [
    "bench_dict_groupby()"
   ]
  },
  {
   "cell_type": "markdown",
   "metadata": {},
   "source": [
    "For a size fixed dataset, the execution time of the groupby function increases as long as the number of unique values increases."
   ]
  },
  {
   "cell_type": "code",
   "execution_count": null,
   "metadata": {},
   "outputs": [],
   "source": []
  },
  {
   "cell_type": "markdown",
   "metadata": {},
   "source": [
    "### Groupby parallelization\n",
    "\n",
    "Now let's implement a parallelized groupby function. \n",
    "\n",
    "The idea is to allow a worker to pick a pair of key-value and give them access to the output variable `grouped`, which is a dictionary of grouped keys. The worker checks if the value exists in `grouped`, if not then initialize the corresponding value of `grouped` with and empty list, then append the list with the key picked by the worker.\n",
    "\n",
    "It is then possible to spawn multiple workers in parallel and manage them with a processing pool. For the sake of security, I use a lock to avoid race conditions."
   ]
  },
  {
   "cell_type": "code",
   "execution_count": 8,
   "metadata": {},
   "outputs": [],
   "source": [
    "grouped = {}\n",
    "dataset = {}\n",
    "\n",
    "\n",
    "def groupby(i):\n",
    "    x = dataset[i]\n",
    "    \n",
    "    if x not in grouped:\n",
    "        grouped[x] = []\n",
    "    grouped[x].append(i)\n",
    "\n",
    "    \n",
    "def groupby_parallel(grouped, i, lock):\n",
    "    x = dataset[i]\n",
    "    \n",
    "    lock.acquire()\n",
    "    try:\n",
    "        if x not in grouped:\n",
    "            grouped[x] = []\n",
    "        l = grouped[x]\n",
    "        l.append(i)\n",
    "        grouped[x] = l\n",
    "    finally:\n",
    "        lock.release()\n",
    "\n",
    "\n",
    "def parallel_groupby(processes=1):\n",
    "    lock = Manager().Lock()\n",
    "    grouped = Manager().dict()\n",
    "    \n",
    "    pool = Pool(processes)\n",
    "    for i in range(len(dataset)):\n",
    "        pool.apply_async(groupby_parallel, \n",
    "                         args=(grouped, i, lock), \n",
    "                         error_callback=print)\n",
    "    pool.close()\n",
    "    pool.join()\n",
    "\n",
    "    return grouped"
   ]
  },
  {
   "cell_type": "code",
   "execution_count": 9,
   "metadata": {},
   "outputs": [],
   "source": [
    "# Because the parallel version doesn't perform as well as the \n",
    "# mono processing version, I use a smaller dataset for the test.\n",
    "dataset = create_dataset(100, 10)"
   ]
  },
  {
   "cell_type": "markdown",
   "metadata": {},
   "source": [
    "Let's see first how much time it takes for monoprocessing."
   ]
  },
  {
   "cell_type": "code",
   "execution_count": 10,
   "metadata": {},
   "outputs": [
    {
     "name": "stdout",
     "output_type": "stream",
     "text": [
      "Execution time: 1.7642974853515625e-05 seconds.\n",
      "\n"
     ]
    }
   ],
   "source": [
    "timeit(groupby_with_dict, dataset)\n",
    "print()"
   ]
  },
  {
   "cell_type": "markdown",
   "metadata": {},
   "source": [
    "Now multiprocessing with number of processes ranging from 1 to 6."
   ]
  },
  {
   "cell_type": "code",
   "execution_count": 11,
   "metadata": {},
   "outputs": [
    {
     "name": "stdout",
     "output_type": "stream",
     "text": [
      "Number of processes: 1\n",
      "Execution time: 0.40412473678588867 seconds.\n",
      "\n",
      "Number of processes: 2\n",
      "Execution time: 0.3969917297363281 seconds.\n",
      "\n",
      "Number of processes: 3\n",
      "Execution time: 0.4205503463745117 seconds.\n",
      "\n",
      "Number of processes: 4\n",
      "Execution time: 0.4770534038543701 seconds.\n",
      "\n",
      "Number of processes: 5\n",
      "Execution time: 0.36072754859924316 seconds.\n",
      "\n",
      "Number of processes: 6\n",
      "Execution time: 0.4008660316467285 seconds.\n",
      "\n"
     ]
    }
   ],
   "source": [
    "for n_proc in range(1, 7):\n",
    "    print('Number of processes: {}'.format(n_proc))\n",
    "    timeit(parallel_groupby, n_proc)\n",
    "    print()"
   ]
  },
  {
   "cell_type": "markdown",
   "metadata": {},
   "source": [
    "It shows that the multiprocessing version is much slower than the monoprocessing version and the execution time increases as long as the number of processes increases. Let's find out the reason with line_profiler."
   ]
  },
  {
   "cell_type": "code",
   "execution_count": 12,
   "metadata": {},
   "outputs": [],
   "source": [
    "%lprun -f parallel_groupby parallel_groupby(1)"
   ]
  },
  {
   "cell_type": "markdown",
   "metadata": {},
   "source": [
    "```\n",
    "Timer unit: 1e-06 s\n",
    "\n",
    "Total time: 0.451016 s\n",
    "File: <ipython-input-8-a537cc417d00>\n",
    "Function: parallel_groupby at line 27\n",
    "\n",
    "Line #      Hits         Time  Per Hit   % Time  Line Contents\n",
    "==============================================================\n",
    "    27                                           def parallel_groupby(processes=1):\n",
    "    28         1      42566.0  42566.0      9.4      lock = Manager().Lock()\n",
    "    29         1      45416.0  45416.0     10.1      grouped = Manager().dict()\n",
    "    30                                               \n",
    "    31         1      34143.0  34143.0      7.6      pool = Pool(processes)\n",
    "    32       101         61.0      0.6      0.0      for i in range(len(dataset)):\n",
    "    33       100         62.0      0.6      0.0          pool.apply_async(groupby_parallel, \n",
    "    34       100         54.0      0.5      0.0                           args=(grouped, i, lock), \n",
    "    35       100       2622.0     26.2      0.6                           error_callback=print)\n",
    "    36         1          5.0      5.0      0.0      pool.close()\n",
    "    37         1     326085.0 326085.0     72.3      pool.join()\n",
    "    38                                           \n",
    "    39         1          2.0      2.0      0.0      return grouped\n",
    "```"
   ]
  },
  {
   "cell_type": "code",
   "execution_count": 13,
   "metadata": {},
   "outputs": [],
   "source": [
    "%lprun -f parallel_groupby parallel_groupby(6)"
   ]
  },
  {
   "cell_type": "markdown",
   "metadata": {},
   "source": [
    "```\n",
    "Timer unit: 1e-06 s\n",
    "\n",
    "Total time: 0.483422 s\n",
    "File: <ipython-input-8-a537cc417d00>\n",
    "Function: parallel_groupby at line 27\n",
    "\n",
    "Line #      Hits         Time  Per Hit   % Time  Line Contents\n",
    "==============================================================\n",
    "    27                                           def parallel_groupby(processes=1):\n",
    "    28         1      39064.0  39064.0      8.1      lock = Manager().Lock()\n",
    "    29         1      34442.0  34442.0      7.1      grouped = Manager().dict()\n",
    "    30                                               \n",
    "    31         1     165277.0 165277.0     34.2      pool = Pool(processes)\n",
    "    32       101         42.0      0.4      0.0      for i in range(len(dataset)):\n",
    "    33       100         53.0      0.5      0.0          pool.apply_async(groupby_parallel, \n",
    "    34       100         39.0      0.4      0.0                           args=(grouped, i, lock), \n",
    "    35       100       1937.0     19.4      0.4                           error_callback=print)\n",
    "    36         1          3.0      3.0      0.0      pool.close()\n",
    "    37         1     242563.0 242563.0     50.2      pool.join()\n",
    "    38                                           \n",
    "    39         1          2.0      2.0      0.0      return grouped\n",
    "```"
   ]
  },
  {
   "cell_type": "markdown",
   "metadata": {},
   "source": [
    "I ran profiling over the same function at line level with two different parameters, i.e. processes=1 and processes=6.\n",
    "\n",
    "- The initialization of the lock (line \\#28) and shared dictionary (line \\#29) is time-consuming. \n",
    "- The process pool initialization (line \\#31) spent 6 times initializing 6 processes as long as initializing a single process.\n",
    "- The actual execution of of tasks (line \\#37) takes also much time because of the lock acquirement and release, which leads to more execution time while there's more processes."
   ]
  },
  {
   "cell_type": "markdown",
   "metadata": {},
   "source": [
    "It turns out for this particular groupby task, multiprocessing doesn't help reduce the execution time. The reason might be:\n",
    "1. The output is a shared object. The race condition has to be handled. If the task doesn't require any shared object, multiprocessing will probably reduce the execution time.\n",
    "2. For a single task, it does mainly updating the share object, i.e. appending elements. It means that there's little time gap between two lock acquired periods, so there is very little computation in parallel actually.\n",
    "\n",
    "To verify these assumptions, I am going to run 2 tests in the following section.\n",
    "1. A test with more time gap between two lock acquired periods by adding `time.sleep()` before `lock.acquire()`.\n",
    "2. On top of the first test, replace the `groupby` function by another function which doesn't require to write into a shared object."
   ]
  },
  {
   "cell_type": "markdown",
   "metadata": {},
   "source": [
    "##### Test 1 - Tasks with more content and writing to shared objects"
   ]
  },
  {
   "cell_type": "code",
   "execution_count": 14,
   "metadata": {},
   "outputs": [],
   "source": [
    "grouped = {}\n",
    "dataset = {}\n",
    "\n",
    "\n",
    "def groupby(i, sleep=0):\n",
    "    if sleep > 0:\n",
    "        time.sleep(sleep)\n",
    "    x = dataset[i]\n",
    "    \n",
    "    if x not in grouped:\n",
    "        grouped[x] = []\n",
    "    grouped[x].append(i)\n",
    "\n",
    "    \n",
    "def groupby_parallel(grouped, i, lock, sleep):\n",
    "    if sleep > 0:\n",
    "        time.sleep(sleep)\n",
    "    x = dataset[i]\n",
    "    \n",
    "    lock.acquire()\n",
    "    try:\n",
    "        if x not in grouped:\n",
    "            grouped[x] = []\n",
    "        l = grouped[x]\n",
    "        l.append(i)\n",
    "        grouped[x] = l\n",
    "    finally:\n",
    "        lock.release()\n",
    "\n",
    "\n",
    "def parallel_groupby(processes=1, sleep=0):\n",
    "    lock = Manager().Lock()\n",
    "    grouped = Manager().dict()\n",
    "    \n",
    "    pool = Pool(processes)\n",
    "    for i in range(len(dataset)):\n",
    "        pool.apply_async(groupby_parallel, \n",
    "                         args=(grouped, i, lock, sleep), \n",
    "                         error_callback=print)\n",
    "    pool.close()\n",
    "    pool.join()\n",
    "\n",
    "    return grouped"
   ]
  },
  {
   "cell_type": "code",
   "execution_count": null,
   "metadata": {},
   "outputs": [],
   "source": []
  },
  {
   "cell_type": "code",
   "execution_count": 15,
   "metadata": {},
   "outputs": [],
   "source": [
    "dataset = create_dataset(1000, 1000)\n",
    "sleep_time = 0.01"
   ]
  },
  {
   "cell_type": "markdown",
   "metadata": {},
   "source": [
    "How much time does it take for mono processing?"
   ]
  },
  {
   "cell_type": "code",
   "execution_count": 16,
   "metadata": {},
   "outputs": [
    {
     "name": "stdout",
     "output_type": "stream",
     "text": [
      "Execution time: 10.075932502746582 seconds.\n"
     ]
    }
   ],
   "source": [
    "_ = timeit(lambda x: [groupby(i, sleep_time) for i in range(len(dataset))], 0)"
   ]
  },
  {
   "cell_type": "code",
   "execution_count": 17,
   "metadata": {
    "scrolled": false
   },
   "outputs": [
    {
     "name": "stdout",
     "output_type": "stream",
     "text": [
      "Number of processes: 1\n",
      "Execution time: 12.128713130950928 seconds.\n",
      "\n",
      "Number of processes: 2\n",
      "Execution time: 6.413443565368652 seconds.\n",
      "\n",
      "Number of processes: 3\n",
      "Execution time: 4.227025270462036 seconds.\n",
      "\n",
      "Number of processes: 4\n",
      "Execution time: 3.3626174926757812 seconds.\n",
      "\n",
      "Number of processes: 5\n",
      "Execution time: 2.7863504886627197 seconds.\n",
      "\n",
      "Number of processes: 6\n",
      "Execution time: 2.4401535987854004 seconds.\n",
      "\n"
     ]
    },
    {
     "data": {
      "image/png": "[encoded data removed]",
      "text/plain": [
       "<Figure size 432x288 with 1 Axes>"
      ]
     },
     "metadata": {},
     "output_type": "display_data"
    }
   ],
   "source": [
    "n_procs = list(range(1, 7))\n",
    "test1_times = []\n",
    "\n",
    "for n_proc in n_procs:\n",
    "    print('Number of processes: {}'.format(n_proc))\n",
    "    _, t = timeit(parallel_groupby, n_proc, sleep_time)\n",
    "    test1_times.append(t)\n",
    "    print()\n",
    "\n",
    "plt.plot(n_procs, test1_times, 'x-b', label='Test 1')\n",
    "plt.legend()\n",
    "plt.xlabel('number of processes')\n",
    "plt.ylabel('seconds')\n",
    "plt.title('Groupby Execution Time')\n",
    "plt.show()"
   ]
  },
  {
   "cell_type": "markdown",
   "metadata": {},
   "source": [
    "By adding more content in the task, it makes more time gap between locks, so that more parallel tasks can be run."
   ]
  },
  {
   "cell_type": "markdown",
   "metadata": {},
   "source": [
    "##### Test 2 - Tasks with more content but without writing to shared objects"
   ]
  },
  {
   "cell_type": "code",
   "execution_count": 18,
   "metadata": {},
   "outputs": [],
   "source": [
    "def square(n, sleep=0):\n",
    "    if sleep > 0:\n",
    "        time.sleep(sleep)  # a line of time-consuming code\n",
    "    return n * n\n",
    "\n",
    "\n",
    "def parallel_square(processes=1, sleep=0):\n",
    "    pool = Pool(processes)\n",
    "    for i in range(len(dataset)):\n",
    "        pool.apply_async(square, \n",
    "                         args=(i, sleep), \n",
    "                         error_callback=print)\n",
    "    pool.close()\n",
    "    pool.join()"
   ]
  },
  {
   "cell_type": "markdown",
   "metadata": {},
   "source": [
    "How much time does it take for mono processing?"
   ]
  },
  {
   "cell_type": "code",
   "execution_count": 19,
   "metadata": {},
   "outputs": [
    {
     "name": "stdout",
     "output_type": "stream",
     "text": [
      "Execution time: 10.09703016281128 seconds.\n"
     ]
    }
   ],
   "source": [
    "_ = timeit(lambda x: [square(i, sleep_time) for i in range(len(dataset))], 0)"
   ]
  },
  {
   "cell_type": "code",
   "execution_count": 20,
   "metadata": {
    "scrolled": false
   },
   "outputs": [
    {
     "name": "stdout",
     "output_type": "stream",
     "text": [
      "Number of processes: 1\n",
      "Execution time: 10.335002422332764 seconds.\n",
      "\n",
      "Number of processes: 2\n",
      "Execution time: 5.261218070983887 seconds.\n",
      "\n",
      "Number of processes: 3\n",
      "Execution time: 3.5759522914886475 seconds.\n",
      "\n",
      "Number of processes: 4\n",
      "Execution time: 2.8167879581451416 seconds.\n",
      "\n",
      "Number of processes: 5\n",
      "Execution time: 2.340592861175537 seconds.\n",
      "\n",
      "Number of processes: 6\n",
      "Execution time: 2.044273614883423 seconds.\n",
      "\n"
     ]
    },
    {
     "data": {
      "image/png": "[encoded data removed]",
      "text/plain": [
       "<Figure size 432x288 with 1 Axes>"
      ]
     },
     "metadata": {},
     "output_type": "display_data"
    }
   ],
   "source": [
    "test2_times = []\n",
    "\n",
    "\n",
    "for n_proc in n_procs:\n",
    "    print('Number of processes: {}'.format(n_proc))\n",
    "    _, t = timeit(parallel_square, n_proc, sleep_time)\n",
    "    test2_times.append(t)\n",
    "    print()\n",
    "\n",
    "plt.plot(n_procs, test1_times, 'x-b', label='Test 1')\n",
    "plt.plot(n_procs, test2_times, '^-y', label='Test 2')\n",
    "plt.legend()\n",
    "plt.xlabel('number of processes')\n",
    "plt.ylabel('seconds')\n",
    "plt.title('Execution Time')\n",
    "plt.show()"
   ]
  },
  {
   "cell_type": "markdown",
   "metadata": {},
   "source": [
    "From the graph, test 2 has less execution time than test 1. It verifies the first assumption, writing in shared objects costs more time."
   ]
  },
  {
   "cell_type": "markdown",
   "metadata": {},
   "source": [
    "#### Does it matter the number of unique values?"
   ]
  },
  {
   "cell_type": "code",
   "execution_count": 21,
   "metadata": {},
   "outputs": [
    {
     "name": "stdout",
     "output_type": "stream",
     "text": [
      "=== Number of unique values: 1 ===\n",
      "Number of processes: 1\n",
      "Execution time: 12.10879111289978 seconds.\n",
      "Number of processes: 2\n",
      "Execution time: 6.425269365310669 seconds.\n",
      "Number of processes: 3\n",
      "Execution time: 4.243856191635132 seconds.\n",
      "Number of processes: 4\n",
      "Execution time: 3.3686439990997314 seconds.\n",
      "Number of processes: 5\n",
      "Execution time: 2.80482816696167 seconds.\n",
      "Number of processes: 6\n",
      "Execution time: 2.431624174118042 seconds.\n",
      "\n",
      "=== Number of unique values: 10 ===\n",
      "Number of processes: 1\n",
      "Execution time: 12.109933614730835 seconds.\n",
      "Number of processes: 2\n",
      "Execution time: 6.314509391784668 seconds.\n",
      "Number of processes: 3\n",
      "Execution time: 4.224473714828491 seconds.\n",
      "Number of processes: 4\n",
      "Execution time: 3.2659876346588135 seconds.\n",
      "Number of processes: 5\n",
      "Execution time: 2.7825238704681396 seconds.\n",
      "Number of processes: 6\n",
      "Execution time: 2.453310489654541 seconds.\n",
      "\n",
      "=== Number of unique values: 100 ===\n",
      "Number of processes: 1\n",
      "Execution time: 12.116395950317383 seconds.\n",
      "Number of processes: 2\n",
      "Execution time: 6.312097549438477 seconds.\n",
      "Number of processes: 3\n",
      "Execution time: 4.229841709136963 seconds.\n",
      "Number of processes: 4\n",
      "Execution time: 3.3553361892700195 seconds.\n",
      "Number of processes: 5\n",
      "Execution time: 2.827397108078003 seconds.\n",
      "Number of processes: 6\n",
      "Execution time: 2.4250717163085938 seconds.\n",
      "\n",
      "=== Number of unique values: 1000 ===\n",
      "Number of processes: 1\n",
      "Execution time: 12.116206407546997 seconds.\n",
      "Number of processes: 2\n",
      "Execution time: 6.312504768371582 seconds.\n",
      "Number of processes: 3\n",
      "Execution time: 4.239527463912964 seconds.\n",
      "Number of processes: 4\n",
      "Execution time: 3.282651901245117 seconds.\n",
      "Number of processes: 5\n",
      "Execution time: 2.68041729927063 seconds.\n",
      "Number of processes: 6\n",
      "Execution time: 2.4394071102142334 seconds.\n",
      "\n"
     ]
    }
   ],
   "source": [
    "n_unique_values = [1, 10, 100, 1000]\n",
    "times_list = []\n",
    "for n_vals in n_unique_values:\n",
    "    print('=== Number of unique values: {} ==='.format(n_vals))\n",
    "    dataset = create_dataset(1000, n_vals)\n",
    "    times = []\n",
    "    for n_proc in n_procs:\n",
    "        print('Number of processes: {}'.format(n_proc))\n",
    "        _, t = timeit(parallel_groupby, n_proc, sleep_time)\n",
    "        times.append(t)\n",
    "    times_list.append(times)\n",
    "    print()"
   ]
  },
  {
   "cell_type": "code",
   "execution_count": 22,
   "metadata": {},
   "outputs": [
    {
     "data": {
      "image/png": "[encoded data removed]",
      "text/plain": [
       "<Figure size 432x288 with 1 Axes>"
      ]
     },
     "metadata": {},
     "output_type": "display_data"
    }
   ],
   "source": [
    "for i, n_vals in enumerate(n_unique_values):\n",
    "    plt.plot(n_procs, times_list[i], 'C{}'.format(i + 1), \n",
    "             label='{} unique values'.format(n_vals))\n",
    "plt.legend()\n",
    "plt.xlabel('number of processes')\n",
    "plt.ylabel('seconds')\n",
    "plt.title('Groupby Execution Time')\n",
    "plt.show()"
   ]
  },
  {
   "cell_type": "markdown",
   "metadata": {},
   "source": [
    "For the parallel groupby function, the number of unique values doesn't matter the execution time."
   ]
  },
  {
   "cell_type": "markdown",
   "metadata": {},
   "source": [
    "### Conclusion\n",
    "\n",
    "1. For a groupby function, if the majority of the task is modifying shared objects, then mono processing works better in most case. Otherwise, multiprocessing will probably reduce the running time.\n",
    "2. In the latter case, the distribution of values doesn't matter the running time of the groupby function."
   ]
  },
  {
   "cell_type": "code",
   "execution_count": null,
   "metadata": {},
   "outputs": [],
   "source": []
  }
 ],
 "metadata": {
  "kernelspec": {
   "display_name": "Python 3",
   "language": "python",
   "name": "python3"
  },
  "language_info": {
   "codemirror_mode": {
    "name": "ipython",
    "version": 3
   },
   "file_extension": ".py",
   "mimetype": "text/x-python",
   "name": "python",
   "nbconvert_exporter": "python",
   "pygments_lexer": "ipython3",
   "version": "3.6.5"
  }
 },
 "nbformat": 4,
 "nbformat_minor": 2
}
